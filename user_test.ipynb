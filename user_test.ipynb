{
 "cells": [
  {
   "cell_type": "code",
   "execution_count": 17,
   "metadata": {
    "collapsed": true
   },
   "outputs": [],
   "source": [
    "import pandas as pd\n",
    "import sqlite3 as sq\n",
    "import SJreader_functions as SJ\n",
    "\n",
    "conn = sq.connect('SJreader.db')"
   ]
  },
  {
   "cell_type": "code",
   "execution_count": 18,
   "metadata": {
    "collapsed": false
   },
   "outputs": [
    {
     "name": "stdout",
     "output_type": "stream",
     "text": [
      "Enter up to 5 keywords, separated by commas:NMR, diffusion, gradients, porosity, geophysics, permeability, logging\n"
     ]
    }
   ],
   "source": [
    "key_list = raw_input(\"Enter up to 5 keywords, separated by commas:\")"
   ]
  },
  {
   "cell_type": "code",
   "execution_count": 19,
   "metadata": {
    "collapsed": false
   },
   "outputs": [],
   "source": [
    "keys = key_list.split(\",\")\n",
    "keys = [x.strip().lower() for x in keys]"
   ]
  },
  {
   "cell_type": "code",
   "execution_count": 38,
   "metadata": {
    "collapsed": false
   },
   "outputs": [],
   "source": [
    "user_keys = list(set(keys))\n",
    "user_keys = [unicode(x, \"utf-8\") for x in user_keys]"
   ]
  },
  {
   "cell_type": "code",
   "execution_count": 51,
   "metadata": {
    "collapsed": true
   },
   "outputs": [],
   "source": [
    "article_info = pd.read_sql('SELECT * FROM recent_articles;', conn, index_col = 'id')\n",
    "titles = article_info['title'].values\n",
    "journals = article_info['journal'].values\n",
    "abstracts = article_info['abstract'].values\n",
    "url = article_info['url'].values"
   ]
  },
  {
   "cell_type": "code",
   "execution_count": 44,
   "metadata": {
    "collapsed": true
   },
   "outputs": [],
   "source": [
    "title_key_scores = SJ.title_key_scores(user_keys, titles)\n",
    "keyword_scores = SJ.keyword_scores(user_keys, article_info)\n",
    "abstract_key_scores = SJ.abstract_key_scores(user_keys, abstracts)\n"
   ]
  },
  {
   "cell_type": "code",
   "execution_count": 59,
   "metadata": {
    "collapsed": false
   },
   "outputs": [
    {
     "name": "stdout",
     "output_type": "stream",
     "text": [
      "Possible matches\n",
      "Anomalous diffusion of fluid momentum and Darcy-like law for laminar flow in media with fractal porosity\n",
      "Are you interested in this article? (Y/N or quit)n\n",
      "Stray-field NMR diffusion q-space diffraction imaging of monodisperse coarsening foams\n",
      "Are you interested in this article? (Y/N or quit)y\n",
      "You can see the full article at:\n",
      "http://www.sciencedirect.com/science/article/pii/S0021979716302843\n",
      "Done\n"
     ]
    }
   ],
   "source": [
    "match_list = []\n",
    "check_match_list = []\n",
    "keep_list = []\n",
    "\n",
    "for N in range(len(title_key_scores)):\n",
    "    if (title_key_scores[N]+keyword_scores[N]+abstract_key_scores[N]) >8:\n",
    "        match_list.append(N)\n",
    "    elif (title_key_scores[N]+keyword_scores[N]+abstract_key_scores[N]) >4:\n",
    "        check_match_list.append(N)\n",
    "\n",
    "if len(match_list)>1:\n",
    "\n",
    "    print(\"Top matches\")\n",
    "    for m in match_list:\n",
    "        print(titles[m])\n",
    "        keep = raw_input(\"Are you interested in this article? (Y/N or quit)\")\n",
    "        if keep.lower() == 'quit':\n",
    "            break \n",
    "        elif keep.lower() == 'y':\n",
    "            keep_list.append(m)\n",
    "            print(\"You can see the full article at:\")\n",
    "            print(url[m])\n",
    "        \n",
    "elif len(check_match_list)>1:\n",
    "    print(\"Possible matches\")\n",
    "    for m in check_match_list:\n",
    "        print(titles[m])\n",
    "        keep = raw_input(\"Are you interested in this article? (Y/N or quit)\")\n",
    "        if keep.lower() == 'quit':\n",
    "            break    \n",
    "        elif keep.lower() == 'y':\n",
    "            keep_list.append(m)\n",
    "            print(\"You can see the full article at:\")\n",
    "            print(url[m])\n",
    "        \n",
    "        \n",
    "else: print(\"No matches found\")\n",
    "    \n",
    "print(\"Done\")"
   ]
  },
  {
   "cell_type": "code",
   "execution_count": 60,
   "metadata": {
    "collapsed": false
   },
   "outputs": [
    {
     "data": {
      "text/html": [
       "<div>\n",
       "<table border=\"1\" class=\"dataframe\">\n",
       "  <thead>\n",
       "    <tr style=\"text-align: right;\">\n",
       "      <th></th>\n",
       "      <th>title</th>\n",
       "      <th>abstract</th>\n",
       "      <th>journal</th>\n",
       "      <th>author1</th>\n",
       "      <th>author2</th>\n",
       "      <th>author3</th>\n",
       "      <th>author4</th>\n",
       "      <th>author5</th>\n",
       "      <th>author6</th>\n",
       "      <th>doi</th>\n",
       "      <th>url</th>\n",
       "      <th>keyword1</th>\n",
       "      <th>keyword2</th>\n",
       "      <th>keyword3</th>\n",
       "      <th>keyword4</th>\n",
       "      <th>pubdate</th>\n",
       "      <th>OA</th>\n",
       "    </tr>\n",
       "    <tr>\n",
       "      <th>id</th>\n",
       "      <th></th>\n",
       "      <th></th>\n",
       "      <th></th>\n",
       "      <th></th>\n",
       "      <th></th>\n",
       "      <th></th>\n",
       "      <th></th>\n",
       "      <th></th>\n",
       "      <th></th>\n",
       "      <th></th>\n",
       "      <th></th>\n",
       "      <th></th>\n",
       "      <th></th>\n",
       "      <th></th>\n",
       "      <th></th>\n",
       "      <th></th>\n",
       "      <th></th>\n",
       "    </tr>\n",
       "  </thead>\n",
       "  <tbody>\n",
       "    <tr>\n",
       "      <th>8862</th>\n",
       "      <td>Stray-field NMR diffusion q-space diffraction ...</td>\n",
       "      <td>Abstract The technique of stray field diffusio...</td>\n",
       "      <td>Journal of Colloid and Interface Science</td>\n",
       "      <td>Smith, Kieron</td>\n",
       "      <td>Burbidge, Adam</td>\n",
       "      <td>Apperley, David</td>\n",
       "      <td>Hodgkinson, Paul</td>\n",
       "      <td>Markwell, Fraser A.</td>\n",
       "      <td>Topgaard, Daniel</td>\n",
       "      <td>DOI:10.1016/j.jcis.2016.04.053</td>\n",
       "      <td>http://www.sciencedirect.com/science/article/p...</td>\n",
       "      <td>Monodisperse</td>\n",
       "      <td>Foam</td>\n",
       "      <td>Stray field</td>\n",
       "      <td>NMR</td>\n",
       "      <td>2016-08-15</td>\n",
       "      <td>1</td>\n",
       "    </tr>\n",
       "  </tbody>\n",
       "</table>\n",
       "</div>"
      ],
      "text/plain": [
       "                                                  title  \\\n",
       "id                                                        \n",
       "8862  Stray-field NMR diffusion q-space diffraction ...   \n",
       "\n",
       "                                               abstract  \\\n",
       "id                                                        \n",
       "8862  Abstract The technique of stray field diffusio...   \n",
       "\n",
       "                                       journal        author1         author2  \\\n",
       "id                                                                              \n",
       "8862  Journal of Colloid and Interface Science  Smith, Kieron  Burbidge, Adam   \n",
       "\n",
       "              author3           author4              author5  \\\n",
       "id                                                             \n",
       "8862  Apperley, David  Hodgkinson, Paul  Markwell, Fraser A.   \n",
       "\n",
       "               author6                             doi  \\\n",
       "id                                                       \n",
       "8862  Topgaard, Daniel  DOI:10.1016/j.jcis.2016.04.053   \n",
       "\n",
       "                                                    url       keyword1  \\\n",
       "id                                                                       \n",
       "8862  http://www.sciencedirect.com/science/article/p...  Monodisperse    \n",
       "\n",
       "     keyword2       keyword3 keyword4     pubdate OA  \n",
       "id                                                    \n",
       "8862    Foam    Stray field      NMR   2016-08-15  1  "
      ]
     },
     "execution_count": 60,
     "metadata": {},
     "output_type": "execute_result"
    }
   ],
   "source": [
    "user_articles = article_info.iloc[keep_list]\n"
   ]
  },
  {
   "cell_type": "code",
   "execution_count": null,
   "metadata": {
    "collapsed": true
   },
   "outputs": [],
   "source": []
  }
 ],
 "metadata": {
  "kernelspec": {
   "display_name": "Python 2",
   "language": "python",
   "name": "python2"
  },
  "language_info": {
   "codemirror_mode": {
    "name": "ipython",
    "version": 2
   },
   "file_extension": ".py",
   "mimetype": "text/x-python",
   "name": "python",
   "nbconvert_exporter": "python",
   "pygments_lexer": "ipython2",
   "version": "2.7.12"
  }
 },
 "nbformat": 4,
 "nbformat_minor": 0
}
