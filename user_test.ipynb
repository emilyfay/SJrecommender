{
 "cells": [
  {
   "cell_type": "code",
   "execution_count": 151,
   "metadata": {
    "collapsed": true
   },
   "outputs": [],
   "source": [
    "import pandas as pd\n",
    "import sqlite3 as sq\n",
    "import SJreader_functions as SJ\n",
    "import numpy as np\n",
    "\n",
    "conn = sq.connect('SJreader.db')"
   ]
  },
  {
   "cell_type": "code",
   "execution_count": 164,
   "metadata": {
    "collapsed": false
   },
   "outputs": [
    {
     "name": "stdout",
     "output_type": "stream",
     "text": [
      "Enter up to 5 keywords, separated by commas:mouse, brain, tumor, gene, therapy\n"
     ]
    }
   ],
   "source": [
    "key_list = raw_input(\"Enter up to 5 keywords, separated by commas:\")"
   ]
  },
  {
   "cell_type": "code",
   "execution_count": 165,
   "metadata": {
    "collapsed": false
   },
   "outputs": [],
   "source": [
    "keys = key_list.split(\",\")\n",
    "keys = [x.strip().lower() for x in keys]"
   ]
  },
  {
   "cell_type": "code",
   "execution_count": 166,
   "metadata": {
    "collapsed": false
   },
   "outputs": [],
   "source": [
    "user_keys = list(set(keys))\n",
    "user_keys = [unicode(x, \"utf-8\") for x in user_keys]"
   ]
  },
  {
   "cell_type": "code",
   "execution_count": 167,
   "metadata": {
    "collapsed": true
   },
   "outputs": [],
   "source": [
    "article_info = pd.read_sql('SELECT * FROM recent_articles;', conn, index_col = 'id')\n",
    "titles = article_info['title'].values\n",
    "journals = article_info['journal'].values\n",
    "abstracts = article_info['abstract'].values\n",
    "url = article_info['url'].values"
   ]
  },
  {
   "cell_type": "code",
   "execution_count": 168,
   "metadata": {
    "collapsed": true
   },
   "outputs": [],
   "source": [
    "title_key_scores = SJ.title_key_scores(user_keys, titles)\n",
    "keyword_scores = SJ.keyword_scores(user_keys, article_info)\n",
    "abstract_key_scores = SJ.abstract_key_scores(user_keys, abstracts)\n"
   ]
  },
  {
   "cell_type": "code",
   "execution_count": 169,
   "metadata": {
    "collapsed": false
   },
   "outputs": [
    {
     "name": "stdout",
     "output_type": "stream",
     "text": [
      "Found 32 possible matches\n",
      "\n",
      "Mitochondrial changes and oxidative stress in a mouse model of Zellweger syndrome neuropathogenesis\n",
      "\n",
      "Are you interested in this article? (Y/N, A to see abstract, or quit)n\n",
      "\n",
      "Differential effects of peripheral and brain tumor necrosis factor on inflammation, sickness, emotional behavior and memory in mice\n",
      "\n",
      "Are you interested in this article? (Y/N, A to see abstract, or quit)y\n",
      "You can see the full article at:\n",
      "http://www.sciencedirect.com/science/article/pii/S0889159116303580\n",
      "\n",
      "\n",
      "Circadian Rhythm Disruption Promotes Lung Tumorigenesis\n",
      "\n",
      "Are you interested in this article? (Y/N, A to see abstract, or quit)y\n",
      "You can see the full article at:\n",
      "http://www.sciencedirect.com/science/article/pii/S1550413116303126\n",
      "\n",
      "\n",
      "Chemotherapy enhances tumor vascularization via Notch signaling-mediated formation of tumor-derived endothelium in breast cancer\n",
      "\n",
      "Are you interested in this article? (Y/N, A to see abstract, or quit)n\n",
      "\n",
      "Carbon ion radiotherapy decreases the impact of tumor heterogeneity on radiation response in experimental prostate tumors\n",
      "\n",
      "Are you interested in this article? (Y/N, A to see abstract, or quit)A\n",
      "Abstract ObjectiveTo quantitatively study the impact of intrinsic tumor characteristics and microenvironmental factors on local tumor control after irradiation with carbon (12C-) ions and photons in an experimental prostate tumor model. Material and MethodsThree sublines of a syngeneic rat prostate tumor (R3327) differing in grading (highly (-H) moderately (-HI) or anaplastic (-AT1)) were irradiated with increasing single doses of either 12C-ions or 6 MV photons in Copenhagen rats. Primary endpoint was local tumor control within 300 days. The relative biological effectiveness (RBE) of 12C-ions was calculated from the dose at 50% tumor control probability (TCD50) of photons and 12C-ions and was correlated with histological, physiological and genetic tumor parameters. ResultsExperimental findings demonstrated that (i) TCD50-values between the three tumor sublines differed less for 12C-ions (23.6–32.9 Gy) than for photons (38.2–75.7 Gy), (ii) the slope of the dose-response curve for each tumor line was steeper for 12C-ions than for photons, and (iii) the RBE increased with tumor grading from 1.62 ± 0.11 (H) to 2.08 ± 0.13 (HI) to 2.30 ± 0.08 (AT1). ConclusionThe response to 12C-ions is less dependent on resistance factors as well as on heterogeneity between and within tumor sublines as compared to photons. A clear correlation between decreasing differentiation status and increasing RBE was found. 12C-ions may therefore be a therapeutic option especially in patients with undifferentiated prostate tumors, expressing high resistance against photons.\n",
      "\n",
      "Are you interested in this article? (Y/N or quit)y\n",
      "You can see the full article at:\n",
      "http://www.sciencedirect.com/science/article/pii/S0304383516303184\n",
      "\n",
      "\n",
      "Non-invasive, neuron-specific gene therapy by focused ultrasound-induced blood-brain barrier opening in Parkinson's disease mouse model\n",
      "\n",
      "Are you interested in this article? (Y/N, A to see abstract, or quit)y\n",
      "You can see the full article at:\n",
      "http://www.sciencedirect.com/science/article/pii/S0168365916303315\n",
      "\n",
      "\n",
      "The fornix provides multiple biomarkers to characterize circuit disruption in a mouse model of Alzheimer's disease\n",
      "\n",
      "Are you interested in this article? (Y/N, A to see abstract, or quit)quit\n",
      "Done\n"
     ]
    }
   ],
   "source": [
    "match_list = []\n",
    "check_match_list = []\n",
    "yes_list = []\n",
    "no_list = []\n",
    "\n",
    "for N in range(len(title_key_scores)):\n",
    "    if (title_key_scores[N]+keyword_scores[N]+abstract_key_scores[N]) >7:\n",
    "        match_list.append(N)\n",
    "    elif (title_key_scores[N]+keyword_scores[N]+abstract_key_scores[N]) >4:\n",
    "        check_match_list.append(N)\n",
    "\n",
    "if len(match_list)>1:\n",
    "\n",
    "    print(\"Found %i top matches\" %len(match_list))\n",
    "    for m in match_list:\n",
    "        print('\\n'+titles[m]+'\\n')\n",
    "        keep = raw_input(\"Are you interested in this article? (Y/N, A to see abstract, or quit)\")\n",
    "        if keep.lower() == 'quit':\n",
    "            break \n",
    "        if keep.lower() == 'a':\n",
    "            print(abstracts[m]+'\\n')\n",
    "            keep = raw_input(\"Are you interested in this article? (Y/N or quit)\")\n",
    "        if keep.lower() == 'y':\n",
    "            yes_list.append(m)\n",
    "            print(\"You can see the full article at:\")\n",
    "            print(url[m]+'\\n')\n",
    "        elif keep.lower() == 'n':\n",
    "            no_list.append(m)\n",
    "\n",
    "elif len(check_match_list)>1:\n",
    "    print(\"Found %i possible matches\" %len(check_match_list))\n",
    "    for m in check_match_list:\n",
    "        print('\\n'+titles[m]+'\\n')\n",
    "        keep = raw_input(\"Are you interested in this article? (Y/N, A to see abstract, or quit)\")\n",
    "        if keep.lower() == 'quit':\n",
    "            break    \n",
    "        if keep.lower() == 'a':\n",
    "            print(abstracts[m]+'\\n')\n",
    "            keep = raw_input(\"Are you interested in this article? (Y/N or quit)\")\n",
    "        if keep.lower() == 'y':\n",
    "            yes_list.append(m)\n",
    "            print(\"You can see the full article at:\")\n",
    "            print(url[m]+'\\n')\n",
    "        elif keep.lower() == 'n':\n",
    "            no_list.append(m)\n",
    "        \n",
    "else: print(\"No matches found\")\n",
    "    \n",
    "print(\"Done\")"
   ]
  },
  {
   "cell_type": "code",
   "execution_count": 170,
   "metadata": {
    "collapsed": false
   },
   "outputs": [],
   "source": [
    "user_articles = article_info.iloc[yes_list+no_list]\n",
    "\n",
    "yes_list_plus1 = [x+1 for x in yes_list]\n",
    "n_matches = len(yes_list+no_list)\n",
    "user_articles.insert(0,'match', np.zeros(n_matches), allow_duplicates = False)\n",
    "user_articles.loc[yes_list_plus1,'match'] = 1\n"
   ]
  },
  {
   "cell_type": "code",
   "execution_count": 171,
   "metadata": {
    "collapsed": false
   },
   "outputs": [
    {
     "data": {
      "text/html": [
       "<div>\n",
       "<table border=\"1\" class=\"dataframe\">\n",
       "  <thead>\n",
       "    <tr style=\"text-align: right;\">\n",
       "      <th></th>\n",
       "      <th>match</th>\n",
       "      <th>title</th>\n",
       "      <th>journal</th>\n",
       "    </tr>\n",
       "    <tr>\n",
       "      <th>id</th>\n",
       "      <th></th>\n",
       "      <th></th>\n",
       "      <th></th>\n",
       "    </tr>\n",
       "  </thead>\n",
       "  <tbody>\n",
       "    <tr>\n",
       "      <th>1077</th>\n",
       "      <td>1</td>\n",
       "      <td>Differential effects of peripheral and brain t...</td>\n",
       "      <td>Brain, Behavior, and Immunity</td>\n",
       "    </tr>\n",
       "    <tr>\n",
       "      <th>2093</th>\n",
       "      <td>1</td>\n",
       "      <td>Circadian Rhythm Disruption Promotes Lung Tumo...</td>\n",
       "      <td>Cell Metabolism</td>\n",
       "    </tr>\n",
       "    <tr>\n",
       "      <th>2242</th>\n",
       "      <td>1</td>\n",
       "      <td>Carbon ion radiotherapy decreases the impact o...</td>\n",
       "      <td>Cancer Letters</td>\n",
       "    </tr>\n",
       "    <tr>\n",
       "      <th>2646</th>\n",
       "      <td>1</td>\n",
       "      <td>Non-invasive, neuron-specific gene therapy by ...</td>\n",
       "      <td>Journal of Controlled Release</td>\n",
       "    </tr>\n",
       "    <tr>\n",
       "      <th>950</th>\n",
       "      <td>0</td>\n",
       "      <td>Mitochondrial changes and oxidative stress in ...</td>\n",
       "      <td>Neuroscience</td>\n",
       "    </tr>\n",
       "    <tr>\n",
       "      <th>2108</th>\n",
       "      <td>0</td>\n",
       "      <td>Chemotherapy enhances tumor vascularization vi...</td>\n",
       "      <td>Biochemical Pharmacology</td>\n",
       "    </tr>\n",
       "  </tbody>\n",
       "</table>\n",
       "</div>"
      ],
      "text/plain": [
       "      match                                              title  \\\n",
       "id                                                               \n",
       "1077      1  Differential effects of peripheral and brain t...   \n",
       "2093      1  Circadian Rhythm Disruption Promotes Lung Tumo...   \n",
       "2242      1  Carbon ion radiotherapy decreases the impact o...   \n",
       "2646      1  Non-invasive, neuron-specific gene therapy by ...   \n",
       "950       0  Mitochondrial changes and oxidative stress in ...   \n",
       "2108      0  Chemotherapy enhances tumor vascularization vi...   \n",
       "\n",
       "                            journal  \n",
       "id                                   \n",
       "1077  Brain, Behavior, and Immunity  \n",
       "2093                Cell Metabolism  \n",
       "2242                 Cancer Letters  \n",
       "2646  Journal of Controlled Release  \n",
       "950                    Neuroscience  \n",
       "2108       Biochemical Pharmacology  "
      ]
     },
     "execution_count": 171,
     "metadata": {},
     "output_type": "execute_result"
    }
   ],
   "source": [
    "user_articles[['match','title','journal']]"
   ]
  },
  {
   "cell_type": "code",
   "execution_count": null,
   "metadata": {
    "collapsed": true
   },
   "outputs": [],
   "source": []
  }
 ],
 "metadata": {
  "kernelspec": {
   "display_name": "Python 2",
   "language": "python",
   "name": "python2"
  },
  "language_info": {
   "codemirror_mode": {
    "name": "ipython",
    "version": 2
   },
   "file_extension": ".py",
   "mimetype": "text/x-python",
   "name": "python",
   "nbconvert_exporter": "python",
   "pygments_lexer": "ipython2",
   "version": "2.7.12"
  }
 },
 "nbformat": 4,
 "nbformat_minor": 0
}
